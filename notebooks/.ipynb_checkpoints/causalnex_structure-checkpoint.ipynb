{
 "cells": [
  {
   "cell_type": "markdown",
   "metadata": {
    "id": "9e5CDKi5UeT9"
   },
   "source": [
    "# *A. halleri* Bayesian Causal Network Analysis \n",
    "\n",
    "This analysis uses the [causalnex](https://causalnex.readthedocs.io/) python package. This is an explanation of code that has only been tested in a `PyTorch` Docker container image on a server with research grade GPU's and >250 cores."
   ]
  },
  {
   "cell_type": "markdown",
   "metadata": {
    "id": "tbjfdtSvNmL2"
   },
   "source": [
    "## Import Python Libraries"
   ]
  },
  {
   "cell_type": "code",
   "execution_count": 3,
   "metadata": {
    "id": "4G73hMHLUpOn"
   },
   "outputs": [],
   "source": [
    "# import pandas and numpy\n",
    "import pandas as pd\n",
    "import numpy as np\n",
    "\n",
    "# setup label encoder to transform non-numeric data into numeric data\n",
    "from sklearn.preprocessing import LabelEncoder\n",
    "le = LabelEncoder()\n",
    "\n",
    "# silence warnings\n",
    "import warnings\n",
    "warnings.filterwarnings(\"ignore\")\n",
    "\n",
    "# import StructureModel \n",
    "from causalnex.structure import StructureModel\n",
    "sm = StructureModel()\n"
   ]
  },
  {
   "cell_type": "markdown",
   "metadata": {
    "id": "U1J8tawyurRk"
   },
   "source": [
    "## *A. halleri Data Input and Formatting*"
   ]
  },
  {
   "cell_type": "markdown",
   "metadata": {
    "id": "Rr4dpezRvJbb"
   },
   "source": [
    "### Read in phenotype and environment data\n",
    "\n",
    "These data are not normalized or scaled in anyway."
   ]
  },
  {
   "cell_type": "code",
   "execution_count": 4,
   "metadata": {
    "colab": {
     "base_uri": "https://localhost:8080/",
     "height": 253
    },
    "executionInfo": {
     "elapsed": 757,
     "status": "ok",
     "timestamp": 1617734723221,
     "user": {
      "displayName": "Ryan Bartelme",
      "photoUrl": "https://lh3.googleusercontent.com/a-/AOh14Gja0-r5H665s3EkcKZsqxigCDAU6vPrcq5Sbmw3CQ=s64",
      "userId": "04889386976385478324"
     },
     "user_tz": 420
    },
    "id": "iZrA0L1vVID9",
    "outputId": "16e6672e-3545-4a80-c3db-e17d3d8e41a2"
   },
   "outputs": [
    {
     "data": {
      "text/html": [
       "<div>\n",
       "<style scoped>\n",
       "    .dataframe tbody tr th:only-of-type {\n",
       "        vertical-align: middle;\n",
       "    }\n",
       "\n",
       "    .dataframe tbody tr th {\n",
       "        vertical-align: top;\n",
       "    }\n",
       "\n",
       "    .dataframe thead th {\n",
       "        text-align: right;\n",
       "    }\n",
       "</style>\n",
       "<table border=\"1\" class=\"dataframe\">\n",
       "  <thead>\n",
       "    <tr style=\"text-align: right;\">\n",
       "      <th></th>\n",
       "      <th>sample</th>\n",
       "      <th>origin_pop</th>\n",
       "      <th>origin_type</th>\n",
       "      <th>treatment_pop</th>\n",
       "      <th>treatment_type</th>\n",
       "      <th>code</th>\n",
       "      <th>comparison_type</th>\n",
       "      <th>comparison_pop</th>\n",
       "      <th>comparison_3levels</th>\n",
       "      <th>F_FW_rosette</th>\n",
       "      <th>...</th>\n",
       "      <th>F_pollen_n_alive</th>\n",
       "      <th>F_pollen_n_dead</th>\n",
       "      <th>F_pollen_n_degen</th>\n",
       "      <th>F_pollen_n_deaddegen</th>\n",
       "      <th>F_pollen_n_all</th>\n",
       "      <th>F_pollen_viability_perc</th>\n",
       "      <th>F_pollen_dead_perc</th>\n",
       "      <th>F_pollen_degen_perc</th>\n",
       "      <th>F_pollen_deaddegen_perc</th>\n",
       "      <th>F_pollen_diameter</th>\n",
       "    </tr>\n",
       "  </thead>\n",
       "  <tbody>\n",
       "    <tr>\n",
       "      <th>0</th>\n",
       "      <td>M_PL22_101</td>\n",
       "      <td>M_PL22</td>\n",
       "      <td>M</td>\n",
       "      <td>M_PL22</td>\n",
       "      <td>M</td>\n",
       "      <td>M_PL22_101_M_PL22</td>\n",
       "      <td>sympatric</td>\n",
       "      <td>sympatric</td>\n",
       "      <td>sympatric</td>\n",
       "      <td>2.551</td>\n",
       "      <td>...</td>\n",
       "      <td>327.0</td>\n",
       "      <td>2.0</td>\n",
       "      <td>0.0</td>\n",
       "      <td>2.0</td>\n",
       "      <td>329.0</td>\n",
       "      <td>99.39</td>\n",
       "      <td>0.61</td>\n",
       "      <td>0.00</td>\n",
       "      <td>0.607903</td>\n",
       "      <td>15.540000</td>\n",
       "    </tr>\n",
       "    <tr>\n",
       "      <th>1</th>\n",
       "      <td>M_PL22_101</td>\n",
       "      <td>M_PL22</td>\n",
       "      <td>M</td>\n",
       "      <td>M_PL27</td>\n",
       "      <td>M</td>\n",
       "      <td>M_PL22_101_M_PL27</td>\n",
       "      <td>sympatric</td>\n",
       "      <td>allopatric</td>\n",
       "      <td>near_allopatric</td>\n",
       "      <td>19.641</td>\n",
       "      <td>...</td>\n",
       "      <td>432.0</td>\n",
       "      <td>7.0</td>\n",
       "      <td>1.0</td>\n",
       "      <td>8.0</td>\n",
       "      <td>440.0</td>\n",
       "      <td>98.18</td>\n",
       "      <td>1.59</td>\n",
       "      <td>0.23</td>\n",
       "      <td>1.818182</td>\n",
       "      <td>16.653333</td>\n",
       "    </tr>\n",
       "    <tr>\n",
       "      <th>2</th>\n",
       "      <td>M_PL22_101</td>\n",
       "      <td>M_PL22</td>\n",
       "      <td>M</td>\n",
       "      <td>NM_PL14</td>\n",
       "      <td>NM</td>\n",
       "      <td>M_PL22_101_NM_PL14</td>\n",
       "      <td>allopatric</td>\n",
       "      <td>allopatric</td>\n",
       "      <td>far_allopatric</td>\n",
       "      <td>7.409</td>\n",
       "      <td>...</td>\n",
       "      <td>540.0</td>\n",
       "      <td>7.0</td>\n",
       "      <td>0.0</td>\n",
       "      <td>7.0</td>\n",
       "      <td>547.0</td>\n",
       "      <td>98.72</td>\n",
       "      <td>1.28</td>\n",
       "      <td>0.00</td>\n",
       "      <td>1.279707</td>\n",
       "      <td>18.220000</td>\n",
       "    </tr>\n",
       "    <tr>\n",
       "      <th>3</th>\n",
       "      <td>M_PL22_101</td>\n",
       "      <td>M_PL22</td>\n",
       "      <td>M</td>\n",
       "      <td>NM_PL35</td>\n",
       "      <td>NM</td>\n",
       "      <td>M_PL22_101_NM_PL35</td>\n",
       "      <td>allopatric</td>\n",
       "      <td>allopatric</td>\n",
       "      <td>far_allopatric</td>\n",
       "      <td>4.232</td>\n",
       "      <td>...</td>\n",
       "      <td>866.0</td>\n",
       "      <td>7.0</td>\n",
       "      <td>3.0</td>\n",
       "      <td>10.0</td>\n",
       "      <td>876.0</td>\n",
       "      <td>98.86</td>\n",
       "      <td>0.80</td>\n",
       "      <td>0.34</td>\n",
       "      <td>1.141553</td>\n",
       "      <td>17.278333</td>\n",
       "    </tr>\n",
       "    <tr>\n",
       "      <th>4</th>\n",
       "      <td>M_PL22_102</td>\n",
       "      <td>M_PL22</td>\n",
       "      <td>M</td>\n",
       "      <td>M_PL22</td>\n",
       "      <td>M</td>\n",
       "      <td>M_PL22_102_M_PL22</td>\n",
       "      <td>sympatric</td>\n",
       "      <td>sympatric</td>\n",
       "      <td>sympatric</td>\n",
       "      <td>NaN</td>\n",
       "      <td>...</td>\n",
       "      <td>687.0</td>\n",
       "      <td>3.0</td>\n",
       "      <td>2.0</td>\n",
       "      <td>5.0</td>\n",
       "      <td>692.0</td>\n",
       "      <td>99.28</td>\n",
       "      <td>0.43</td>\n",
       "      <td>0.29</td>\n",
       "      <td>0.722543</td>\n",
       "      <td>16.650000</td>\n",
       "    </tr>\n",
       "  </tbody>\n",
       "</table>\n",
       "<p>5 rows × 82 columns</p>\n",
       "</div>"
      ],
      "text/plain": [
       "       sample origin_pop origin_type treatment_pop treatment_type  \\\n",
       "0  M_PL22_101     M_PL22           M        M_PL22              M   \n",
       "1  M_PL22_101     M_PL22           M        M_PL27              M   \n",
       "2  M_PL22_101     M_PL22           M       NM_PL14             NM   \n",
       "3  M_PL22_101     M_PL22           M       NM_PL35             NM   \n",
       "4  M_PL22_102     M_PL22           M        M_PL22              M   \n",
       "\n",
       "                 code comparison_type comparison_pop comparison_3levels  \\\n",
       "0   M_PL22_101_M_PL22       sympatric      sympatric          sympatric   \n",
       "1   M_PL22_101_M_PL27       sympatric     allopatric    near_allopatric   \n",
       "2  M_PL22_101_NM_PL14      allopatric     allopatric     far_allopatric   \n",
       "3  M_PL22_101_NM_PL35      allopatric     allopatric     far_allopatric   \n",
       "4   M_PL22_102_M_PL22       sympatric      sympatric          sympatric   \n",
       "\n",
       "   F_FW_rosette  ...  F_pollen_n_alive  F_pollen_n_dead  F_pollen_n_degen  \\\n",
       "0         2.551  ...             327.0              2.0               0.0   \n",
       "1        19.641  ...             432.0              7.0               1.0   \n",
       "2         7.409  ...             540.0              7.0               0.0   \n",
       "3         4.232  ...             866.0              7.0               3.0   \n",
       "4           NaN  ...             687.0              3.0               2.0   \n",
       "\n",
       "   F_pollen_n_deaddegen  F_pollen_n_all  F_pollen_viability_perc  \\\n",
       "0                   2.0           329.0                    99.39   \n",
       "1                   8.0           440.0                    98.18   \n",
       "2                   7.0           547.0                    98.72   \n",
       "3                  10.0           876.0                    98.86   \n",
       "4                   5.0           692.0                    99.28   \n",
       "\n",
       "   F_pollen_dead_perc  F_pollen_degen_perc  F_pollen_deaddegen_perc  \\\n",
       "0                0.61                 0.00                 0.607903   \n",
       "1                1.59                 0.23                 1.818182   \n",
       "2                1.28                 0.00                 1.279707   \n",
       "3                0.80                 0.34                 1.141553   \n",
       "4                0.43                 0.29                 0.722543   \n",
       "\n",
       "   F_pollen_diameter  \n",
       "0          15.540000  \n",
       "1          16.653333  \n",
       "2          18.220000  \n",
       "3          17.278333  \n",
       "4          16.650000  \n",
       "\n",
       "[5 rows x 82 columns]"
      ]
     },
     "execution_count": 4,
     "metadata": {},
     "output_type": "execute_result"
    }
   ],
   "source": [
    "data = pd.read_csv('~/a_halleri/data/Ahalleri_transplant_exp_F.txt', delimiter='\\t')\n",
    "data.head()"
   ]
  },
  {
   "cell_type": "markdown",
   "metadata": {
    "id": "7suse9vhvy_t"
   },
   "source": [
    "### Drop features from Model\n",
    "\n",
    "1. Drop `code` from the model, this is internal to the researchers who collected the data.\n",
    "2. Drop `comparison_type` and `comparison_pop`, by one-hot encoding `comparison_3levels` the new features account for the dropped features in their comparison.\n",
    "3. Use `data` to begin encoding categorical variables."
   ]
  },
  {
   "cell_type": "code",
   "execution_count": 5,
   "metadata": {
    "colab": {
     "base_uri": "https://localhost:8080/",
     "height": 224
    },
    "executionInfo": {
     "elapsed": 452,
     "status": "ok",
     "timestamp": 1617734726742,
     "user": {
      "displayName": "Ryan Bartelme",
      "photoUrl": "https://lh3.googleusercontent.com/a-/AOh14Gja0-r5H665s3EkcKZsqxigCDAU6vPrcq5Sbmw3CQ=s64",
      "userId": "04889386976385478324"
     },
     "user_tz": 420
    },
    "id": "5CaD5kiSv614",
    "outputId": "996df203-6ac8-402c-961f-4777d44d030e"
   },
   "outputs": [
    {
     "data": {
      "text/html": [
       "<div>\n",
       "<style scoped>\n",
       "    .dataframe tbody tr th:only-of-type {\n",
       "        vertical-align: middle;\n",
       "    }\n",
       "\n",
       "    .dataframe tbody tr th {\n",
       "        vertical-align: top;\n",
       "    }\n",
       "\n",
       "    .dataframe thead th {\n",
       "        text-align: right;\n",
       "    }\n",
       "</style>\n",
       "<table border=\"1\" class=\"dataframe\">\n",
       "  <thead>\n",
       "    <tr style=\"text-align: right;\">\n",
       "      <th></th>\n",
       "      <th>sample</th>\n",
       "      <th>origin_pop</th>\n",
       "      <th>origin_type</th>\n",
       "      <th>treatment_pop</th>\n",
       "      <th>treatment_type</th>\n",
       "      <th>comparison_3levels</th>\n",
       "      <th>F_FW_rosette</th>\n",
       "      <th>F_FW_aboveground_tot</th>\n",
       "      <th>F_FW_root</th>\n",
       "      <th>F_DW_rosette</th>\n",
       "      <th>...</th>\n",
       "      <th>F_pollen_n_alive</th>\n",
       "      <th>F_pollen_n_dead</th>\n",
       "      <th>F_pollen_n_degen</th>\n",
       "      <th>F_pollen_n_deaddegen</th>\n",
       "      <th>F_pollen_n_all</th>\n",
       "      <th>F_pollen_viability_perc</th>\n",
       "      <th>F_pollen_dead_perc</th>\n",
       "      <th>F_pollen_degen_perc</th>\n",
       "      <th>F_pollen_deaddegen_perc</th>\n",
       "      <th>F_pollen_diameter</th>\n",
       "    </tr>\n",
       "  </thead>\n",
       "  <tbody>\n",
       "    <tr>\n",
       "      <th>0</th>\n",
       "      <td>M_PL22_101</td>\n",
       "      <td>M_PL22</td>\n",
       "      <td>M</td>\n",
       "      <td>M_PL22</td>\n",
       "      <td>M</td>\n",
       "      <td>sympatric</td>\n",
       "      <td>2.551</td>\n",
       "      <td>2.551</td>\n",
       "      <td>1.125</td>\n",
       "      <td>0.3817</td>\n",
       "      <td>...</td>\n",
       "      <td>327.0</td>\n",
       "      <td>2.0</td>\n",
       "      <td>0.0</td>\n",
       "      <td>2.0</td>\n",
       "      <td>329.0</td>\n",
       "      <td>99.39</td>\n",
       "      <td>0.61</td>\n",
       "      <td>0.00</td>\n",
       "      <td>0.607903</td>\n",
       "      <td>15.540000</td>\n",
       "    </tr>\n",
       "    <tr>\n",
       "      <th>1</th>\n",
       "      <td>M_PL22_101</td>\n",
       "      <td>M_PL22</td>\n",
       "      <td>M</td>\n",
       "      <td>M_PL27</td>\n",
       "      <td>M</td>\n",
       "      <td>near_allopatric</td>\n",
       "      <td>19.641</td>\n",
       "      <td>31.112</td>\n",
       "      <td>1.769</td>\n",
       "      <td>2.4960</td>\n",
       "      <td>...</td>\n",
       "      <td>432.0</td>\n",
       "      <td>7.0</td>\n",
       "      <td>1.0</td>\n",
       "      <td>8.0</td>\n",
       "      <td>440.0</td>\n",
       "      <td>98.18</td>\n",
       "      <td>1.59</td>\n",
       "      <td>0.23</td>\n",
       "      <td>1.818182</td>\n",
       "      <td>16.653333</td>\n",
       "    </tr>\n",
       "    <tr>\n",
       "      <th>2</th>\n",
       "      <td>M_PL22_101</td>\n",
       "      <td>M_PL22</td>\n",
       "      <td>M</td>\n",
       "      <td>NM_PL14</td>\n",
       "      <td>NM</td>\n",
       "      <td>far_allopatric</td>\n",
       "      <td>7.409</td>\n",
       "      <td>7.409</td>\n",
       "      <td>0.541</td>\n",
       "      <td>0.7470</td>\n",
       "      <td>...</td>\n",
       "      <td>540.0</td>\n",
       "      <td>7.0</td>\n",
       "      <td>0.0</td>\n",
       "      <td>7.0</td>\n",
       "      <td>547.0</td>\n",
       "      <td>98.72</td>\n",
       "      <td>1.28</td>\n",
       "      <td>0.00</td>\n",
       "      <td>1.279707</td>\n",
       "      <td>18.220000</td>\n",
       "    </tr>\n",
       "    <tr>\n",
       "      <th>3</th>\n",
       "      <td>M_PL22_101</td>\n",
       "      <td>M_PL22</td>\n",
       "      <td>M</td>\n",
       "      <td>NM_PL35</td>\n",
       "      <td>NM</td>\n",
       "      <td>far_allopatric</td>\n",
       "      <td>4.232</td>\n",
       "      <td>8.113</td>\n",
       "      <td>3.653</td>\n",
       "      <td>0.8914</td>\n",
       "      <td>...</td>\n",
       "      <td>866.0</td>\n",
       "      <td>7.0</td>\n",
       "      <td>3.0</td>\n",
       "      <td>10.0</td>\n",
       "      <td>876.0</td>\n",
       "      <td>98.86</td>\n",
       "      <td>0.80</td>\n",
       "      <td>0.34</td>\n",
       "      <td>1.141553</td>\n",
       "      <td>17.278333</td>\n",
       "    </tr>\n",
       "    <tr>\n",
       "      <th>4</th>\n",
       "      <td>M_PL22_102</td>\n",
       "      <td>M_PL22</td>\n",
       "      <td>M</td>\n",
       "      <td>M_PL22</td>\n",
       "      <td>M</td>\n",
       "      <td>sympatric</td>\n",
       "      <td>NaN</td>\n",
       "      <td>NaN</td>\n",
       "      <td>NaN</td>\n",
       "      <td>NaN</td>\n",
       "      <td>...</td>\n",
       "      <td>687.0</td>\n",
       "      <td>3.0</td>\n",
       "      <td>2.0</td>\n",
       "      <td>5.0</td>\n",
       "      <td>692.0</td>\n",
       "      <td>99.28</td>\n",
       "      <td>0.43</td>\n",
       "      <td>0.29</td>\n",
       "      <td>0.722543</td>\n",
       "      <td>16.650000</td>\n",
       "    </tr>\n",
       "  </tbody>\n",
       "</table>\n",
       "<p>5 rows × 79 columns</p>\n",
       "</div>"
      ],
      "text/plain": [
       "       sample origin_pop origin_type treatment_pop treatment_type  \\\n",
       "0  M_PL22_101     M_PL22           M        M_PL22              M   \n",
       "1  M_PL22_101     M_PL22           M        M_PL27              M   \n",
       "2  M_PL22_101     M_PL22           M       NM_PL14             NM   \n",
       "3  M_PL22_101     M_PL22           M       NM_PL35             NM   \n",
       "4  M_PL22_102     M_PL22           M        M_PL22              M   \n",
       "\n",
       "  comparison_3levels  F_FW_rosette  F_FW_aboveground_tot  F_FW_root  \\\n",
       "0          sympatric         2.551                 2.551      1.125   \n",
       "1    near_allopatric        19.641                31.112      1.769   \n",
       "2     far_allopatric         7.409                 7.409      0.541   \n",
       "3     far_allopatric         4.232                 8.113      3.653   \n",
       "4          sympatric           NaN                   NaN        NaN   \n",
       "\n",
       "   F_DW_rosette  ...  F_pollen_n_alive  F_pollen_n_dead  F_pollen_n_degen  \\\n",
       "0        0.3817  ...             327.0              2.0               0.0   \n",
       "1        2.4960  ...             432.0              7.0               1.0   \n",
       "2        0.7470  ...             540.0              7.0               0.0   \n",
       "3        0.8914  ...             866.0              7.0               3.0   \n",
       "4           NaN  ...             687.0              3.0               2.0   \n",
       "\n",
       "   F_pollen_n_deaddegen  F_pollen_n_all  F_pollen_viability_perc  \\\n",
       "0                   2.0           329.0                    99.39   \n",
       "1                   8.0           440.0                    98.18   \n",
       "2                   7.0           547.0                    98.72   \n",
       "3                  10.0           876.0                    98.86   \n",
       "4                   5.0           692.0                    99.28   \n",
       "\n",
       "   F_pollen_dead_perc  F_pollen_degen_perc  F_pollen_deaddegen_perc  \\\n",
       "0                0.61                 0.00                 0.607903   \n",
       "1                1.59                 0.23                 1.818182   \n",
       "2                1.28                 0.00                 1.279707   \n",
       "3                0.80                 0.34                 1.141553   \n",
       "4                0.43                 0.29                 0.722543   \n",
       "\n",
       "   F_pollen_diameter  \n",
       "0          15.540000  \n",
       "1          16.653333  \n",
       "2          18.220000  \n",
       "3          17.278333  \n",
       "4          16.650000  \n",
       "\n",
       "[5 rows x 79 columns]"
      ]
     },
     "execution_count": 5,
     "metadata": {},
     "output_type": "execute_result"
    }
   ],
   "source": [
    "drop_col = ['code', 'comparison_type', 'comparison_pop']\n",
    "data = data.drop(columns=drop_col)\n",
    "data.head(5)"
   ]
  },
  {
   "cell_type": "markdown",
   "metadata": {
    "id": "bjynI247zoXe"
   },
   "source": [
    "### Transform Categorical Variables to Numeric Ones\n",
    "\n",
    "1. Copy the `pandas` dataframe `data` to `struct_data` for `NOTEARS` preprocessing.\n",
    "2. Remove `NA` values\n",
    "3. Rename `sample` to `genotype` to not conflict with the python function `sample()`.\n",
    "4. Encode categoricals with `>3` categories as dummy variables. \n",
    "  * Those are: `genotype`, `origin_pop`, `treatment_pop`, and `comparison_3levels`\n",
    "  * The output of this encoding is stored in the dataframe `dum_df` \n",
    "5. Use the `labelEncoder()` from `sklearn.preprocessing` to convert all two category variables to binary. \n",
    "  * `M` is encoded as a `0` and `NM` is encoded as a `1`\n",
    "6. "
   ]
  },
  {
   "cell_type": "code",
   "execution_count": 7,
   "metadata": {
    "colab": {
     "base_uri": "https://localhost:8080/",
     "height": 253
    },
    "executionInfo": {
     "elapsed": 844,
     "status": "ok",
     "timestamp": 1617734868152,
     "user": {
      "displayName": "Ryan Bartelme",
      "photoUrl": "https://lh3.googleusercontent.com/a-/AOh14Gja0-r5H665s3EkcKZsqxigCDAU6vPrcq5Sbmw3CQ=s64",
      "userId": "04889386976385478324"
     },
     "user_tz": 420
    },
    "id": "nrAHBFY01EQE",
    "outputId": "f06600fe-b2e5-486e-f406-29f5c877056c"
   },
   "outputs": [],
   "source": [
    "from sklearn.preprocessing import LabelEncoder\n",
    "struct_data = data.copy()\n",
    "\n",
    "# drop na rows \n",
    "struct_data = struct_data.dropna()\n",
    "# change sample to genotype to not interfere with code by invoking sample()\n",
    "struct_data = struct_data.rename(columns={\"sample\": \"genotype\"})\n",
    "\n",
    "#encode non-binary categorical variables as dummy vars\n",
    "dum_df = pd.get_dummies(struct_data, columns=['genotype', 'origin_pop',\n",
    "                                                  'treatment_pop',\n",
    "                                                  'comparison_3levels'])\n",
    "# encode binary categorical variables as 0's or 1's\n",
    "non_numeric_columns = list(dum_df.select_dtypes(exclude=[np.number]).columns)\n",
    "le = LabelEncoder()\n",
    "for col in non_numeric_columns:\n",
    "  dum_df[col] = le.fit_transform(dum_df[col])\n",
    "\n",
    "dum_df.head(5)\n",
    "\n",
    "#write out dummy var df\n",
    "dum_df.to_csv(\"~/a_halleri/data/a_halleri_dummy_df.txt\", sep=\"\\t\", index=False)"
   ]
  },
  {
   "cell_type": "markdown",
   "metadata": {
    "id": "gNjHsHQ73dvK"
   },
   "source": [
    "## Structure Learning with `NOTEARS`\n",
    "\n",
    "The function `causalnex.structure.notears.from_pandas()` has the following arguments:\n",
    "\n",
    "```python\n",
    "X (DataFrame) – input data.\n",
    "max_iter (int) – max number of dual ascent steps during optimisation.\n",
    "h_tol (float) – exit if h(W) < h_tol (as opposed to strict definition of 0).\n",
    "w_threshold (float) – fixed threshold for absolute edge weights.\n",
    "tabu_edges (Optional[List[Tuple[str, str]]]) – list of edges(from, to) not to be included in the graph.\n",
    "tabu_parent_nodes (Optional[List[str]]) – list of nodes banned from being a parent of any other nodes.\n",
    "tabu_child_nodes (Optional[List[str]]) – list of nodes banned from being a child of any other nodes.\n",
    "```\n",
    "\n",
    "The `NOTEARS` algorithm has the following references:\n",
    "\n",
    "```latex\n",
    "@inproceedings{zheng2018dags,\n",
    "    author = {Zheng, Xun and Aragam, Bryon and Ravikumar, Pradeep and Xing, Eric P.},\n",
    "    booktitle = {Advances in Neural Information Processing Systems},\n",
    "    title = {{DAGs with NO TEARS: Continuous Optimization for Structure Learning}},\n",
    "    year = {2018}\n",
    "}\n",
    "\n",
    "@inproceedings{zheng2020learning,\n",
    "    author = {Zheng, Xun and Dan, Chen and Aragam, Bryon and Ravikumar, Pradeep and Xing, Eric P.},\n",
    "    booktitle = {International Conference on Artificial Intelligence and Statistics},\n",
    "    title = {{Learning sparse nonparametric DAGs}},\n",
    "    year = {2020}\n",
    "}\n",
    "```"
   ]
  },
  {
   "cell_type": "markdown",
   "metadata": {
    "id": "wiPyiFh1U-oq"
   },
   "source": [
    "### Using `NOTEARS`: Generate Directed Acyclic Graph (DAG) of *A halleri* Data \n",
    "\n",
    "`max_iter`: maximum number of iterations to run NOTEARS\n",
    "`w_threshold`: sets absolute edge weight\n"
   ]
  },
  {
   "cell_type": "code",
   "execution_count": null,
   "metadata": {
    "id": "77SQF0kM35Qv"
   },
   "outputs": [],
   "source": [
    "from causalnex.structure.notears import from_pandas\n",
    "sm = from_pandas(X=dum_df, max_iter=1000, w_threshold=0.8)"
   ]
  },
  {
   "cell_type": "markdown",
   "metadata": {
    "id": "hgM5-WRGYE_3"
   },
   "source": [
    "### Visualize Graph Structure\n",
    "\n",
    "Creates DAG with `plot_structure` function from CausalNex."
   ]
  },
  {
   "cell_type": "code",
   "execution_count": null,
   "metadata": {
    "id": "ncJaqCIiYEhc"
   },
   "outputs": [],
   "source": [
    "from causalnex.plots import plot_structure\n",
    "plot = plot_structure(sm)\n",
    "plot.draw(\"sm_plot.png\")"
   ]
  },
  {
   "cell_type": "markdown",
   "metadata": {
    "id": "lP-8DzlOZ2U_"
   },
   "source": [
    "# Current Progress"
   ]
  },
  {
   "cell_type": "markdown",
   "metadata": {
    "id": "luUWEm60YSGs"
   },
   "source": [
    "As of Apr 06 2021, the learning takes ~4 hours with 125 features and 250 cores on the CyVerse Developer Server. The graph generation throws an error message:\n",
    "\n",
    "```bash\n",
    "Exception ignored in: <function AGraph.__del__ at 0x7f49dabff430>\n",
    "Traceback (most recent call last):\n",
    "  File \"/opt/conda/lib/python3.8/site-packages/pygraphviz/agraph.py\", line 283, in __del__\n",
    "  File \"/opt/conda/lib/python3.8/site-packages/pygraphviz/agraph.py\", line 1000, in _close_handle\n",
    "TypeError: 'NoneType' object is not callable\n",
    "```\n",
    "\n",
    "But the graph still output as `sm_plot.png`"
   ]
  },
  {
   "cell_type": "markdown",
   "metadata": {
    "id": "CbUJQXDWSPik"
   },
   "source": [
    "# Potential Next Steps:"
   ]
  },
  {
   "cell_type": "markdown",
   "metadata": {
    "id": "T5kAoEG2SVeQ"
   },
   "source": [
    "- [ ] Fit the Conditional Distribution of the Bayesian Network\n",
    "  - Requires `train/test` split with `sklearn`\n",
    "- [ ] Assess Model Quality\n",
    "- [ ] Query the Marginals\n"
   ]
  }
 ],
 "metadata": {
  "colab": {
   "authorship_tag": "ABX9TyO56vDA0PfKGz7IxwWrKXr9",
   "collapsed_sections": [],
   "mount_file_id": "1d20Y10vlsGxlDij7_6DbVazD_FA3XJd0",
   "name": "causal_nex_demo.ipynb",
   "provenance": [],
   "toc_visible": true
  },
  "kernelspec": {
   "display_name": "Python 3",
   "language": "python",
   "name": "python3"
  },
  "language_info": {
   "codemirror_mode": {
    "name": "ipython",
    "version": 3
   },
   "file_extension": ".py",
   "mimetype": "text/x-python",
   "name": "python",
   "nbconvert_exporter": "python",
   "pygments_lexer": "ipython3",
   "version": "3.8.6"
  }
 },
 "nbformat": 4,
 "nbformat_minor": 4
}
